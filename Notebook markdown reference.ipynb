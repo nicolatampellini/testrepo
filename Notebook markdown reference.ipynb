{
    "cells": [
        {
            "cell_type": "markdown",
            "metadata": {
                "collapsed": true
            },
            "source": "# Markdown cheat sheet"
        },
        {
            "cell_type": "markdown",
            "metadata": {},
            "source": "## This is a little markdown cheat sheet.\n\n### With an example of secondary headings.\n\n#### List of examples\n\n1. Numberd list 1;\n1. Numbered list 2.\n\n- Bullet 1\n- Bullet 2\n\nBold __example__ or **example**.  \n<br>Italics _example_ or *example*.\n\nExample of code:\n>  `print(\"Hello\")\n***\n\n[Good Year!](https://www.google.com/search?sa=X&q=Capodanno&oi=ddle&ct=166155174&hl=it&ved=0ahUKEwjs9JCRp_vtAhWD2-AKHb2eBv8QPQgO&biw=1920&bih=906)"
        }
    ],
    "metadata": {
        "kernelspec": {
            "display_name": "Python 3.7",
            "language": "python",
            "name": "python3"
        },
        "language_info": {
            "codemirror_mode": {
                "name": "ipython",
                "version": 3
            },
            "file_extension": ".py",
            "mimetype": "text/x-python",
            "name": "python",
            "nbconvert_exporter": "python",
            "pygments_lexer": "ipython3",
            "version": "3.7.9"
        }
    },
    "nbformat": 4,
    "nbformat_minor": 1
}